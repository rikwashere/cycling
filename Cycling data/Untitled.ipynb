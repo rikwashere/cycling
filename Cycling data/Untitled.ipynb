{
 "cells": [
  {
   "cell_type": "code",
   "execution_count": 36,
   "metadata": {},
   "outputs": [
    {
     "name": "stdout",
     "output_type": "stream",
     "text": [
      "Scraping... Tour Down Under -  FirstCycling.com 2000\n",
      "Scraping... Tour Down Under -  FirstCycling.com 2001\n",
      "Scraping... Tour Down Under -  FirstCycling.com 2002\n",
      "Scraping... Tour Down Under -  FirstCycling.com 2003\n",
      "Scraping... Tour Down Under -  FirstCycling.com 2004\n",
      "Scraping... Tour Down Under -  FirstCycling.com 2005\n",
      "Scraping... Tour Down Under -  FirstCycling.com 2006\n",
      "Scraping... Tour Down Under -  FirstCycling.com 2007\n",
      "Scraping... Tour Down Under -  FirstCycling.com 2008\n",
      "Scraping... Tour Down Under -  FirstCycling.com 2009\n",
      "Scraping... Tour Down Under -  FirstCycling.com 2010\n",
      "Scraping... Tour Down Under -  FirstCycling.com 2011\n",
      "Scraping... Tour Down Under -  FirstCycling.com 2012\n",
      "Scraping... Tour Down Under -  FirstCycling.com 2013\n",
      "Scraping... Tour Down Under -  FirstCycling.com 2014\n",
      "Scraping... Tour Down Under -  FirstCycling.com 2015\n",
      "Scraping... Tour Down Under -  FirstCycling.com 2016\n",
      "Scraping... Tour Down Under -  FirstCycling.com 2017\n",
      "Scraping... Tour Down Under -  FirstCycling.com 2018\n",
      "Scraping... Tour Down Under -  FirstCycling.com 2019\n",
      "Scraping... Tour Down Under -  FirstCycling.com 2020\n",
      "Scraping...  -  FirstCycling.com 2021\n"
     ]
    }
   ],
   "source": [
    "from bs4 import BeautifulSoup\n",
    "import requests\n",
    "import csv\n",
    "\n",
    "def parseHTML(soup):\n",
    "    table = soup.find('div', {'class':'back'})\n",
    "    rows = table.findAll('tr')\n",
    "\n",
    "    output = []\n",
    "\n",
    "    for row in rows[1:]: \n",
    "        cells = row.findAll('td')\n",
    "        output_row = []\n",
    "        \n",
    "        for cell in cells:\n",
    "            cell_inhoud = cell.get_text().strip()\n",
    "            output_row.append(cell_inhoud)\n",
    "        \n",
    "        output.append(output_row)\n",
    "    \n",
    "    return output    \n",
    "\n",
    "if __name__ == '__main__':\n",
    "    total = []\n",
    "\n",
    "    for year in range(2000,2022):\n",
    "        params = {'r' : 1, 'y' : year}\n",
    "\n",
    "        r = requests.get('https://firstcycling.com/race.php', params=params)\n",
    "        soup = BeautifulSoup(r.text)\n",
    "        print('Scraping...', soup.title.text + ' ' + str(year))\n",
    "        rows = parseHTML(soup)\n",
    "        total += rows\n",
    "\n",
    "    with open('test_output.csv', 'w', encoding='utf8', newline='') as fo:\n",
    "        writer = csv.writer(fo)\n",
    "        writer.writerows(total)"
   ]
  },
  {
   "cell_type": "code",
   "execution_count": 39,
   "metadata": {},
   "outputs": [
    {
     "name": "stdout",
     "output_type": "stream",
     "text": [
      "            0                     1     2                       3         4  \\\n",
      "0          01        Gilles Maignan  1968        Ag2r - Décathlon  19:02:02   \n",
      "1          02        Stuart O'Grady  1973         Crédit Agricole      + 12   \n",
      "2          03      Steffen Wesemann  1971   Team Deutsche Telekom      + 14   \n",
      "3          04        Ludovic Turpin  1975        Ag2r - Décathlon      + 18   \n",
      "4          05           Sandy Casar  1979   La Française des Jeux      + 24   \n",
      "...       ...                   ...   ...                     ...       ...   \n",
      "2519      DNF          Rafael Valls  1987         Bahrain-McLaren             \n",
      "2520      DNF         Szymon Sajnok  1997                CCC Team             \n",
      "2521      DNF           Ben Hermans  1986  Israel Start-Up Nation             \n",
      "2522      DNF  Alexandr Riabushenko  1995       UAE Team Emirates             \n",
      "2523  No data                  None  None                    None      None   \n",
      "\n",
      "         5  \n",
      "0     None  \n",
      "1     None  \n",
      "2     None  \n",
      "3     None  \n",
      "4     None  \n",
      "...    ...  \n",
      "2519        \n",
      "2520        \n",
      "2521        \n",
      "2522        \n",
      "2523  None  \n",
      "\n",
      "[2524 rows x 6 columns]\n"
     ]
    }
   ],
   "source": [
    "import pandas as pd\n",
    "df = pd.DataFrame(total)\n",
    "print(df)"
   ]
  },
  {
   "cell_type": "code",
   "execution_count": null,
   "metadata": {},
   "outputs": [],
   "source": []
  }
 ],
 "metadata": {
  "kernelspec": {
   "display_name": "Python 3",
   "language": "python",
   "name": "python3"
  },
  "language_info": {
   "codemirror_mode": {
    "name": "ipython",
    "version": 3
   },
   "file_extension": ".py",
   "mimetype": "text/x-python",
   "name": "python",
   "nbconvert_exporter": "python",
   "pygments_lexer": "ipython3",
   "version": "3.7.4"
  }
 },
 "nbformat": 4,
 "nbformat_minor": 4
}
